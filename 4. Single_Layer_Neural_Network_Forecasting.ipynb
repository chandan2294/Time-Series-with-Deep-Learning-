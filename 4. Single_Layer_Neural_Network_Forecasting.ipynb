{
  "nbformat": 4,
  "nbformat_minor": 0,
  "metadata": {
    "colab": {
      "name": "4. Single Layer Neural Network Forecasting.ipynb",
      "provenance": [],
      "authorship_tag": "ABX9TyM1GW3s7PWzKGBQQHO4Xgsw",
      "include_colab_link": true
    },
    "kernelspec": {
      "name": "python3",
      "display_name": "Python 3"
    }
  },
  "cells": [
    {
      "cell_type": "markdown",
      "metadata": {
        "id": "view-in-github",
        "colab_type": "text"
      },
      "source": [
        "<a href=\"https://colab.research.google.com/github/chandan2294/Time-Series-with-Deep-Learning-/blob/master/4.%20Single_Layer_Neural_Network_Forecasting.ipynb\" target=\"_parent\"><img src=\"https://colab.research.google.com/assets/colab-badge.svg\" alt=\"Open In Colab\"/></a>"
      ]
    },
    {
      "cell_type": "code",
      "metadata": {
        "id": "DuXqwRNjTBy0",
        "colab_type": "code",
        "colab": {}
      },
      "source": [
        "try: \n",
        "  %tensorflow_version 2.x\n",
        "except Exception:\n",
        "  pass"
      ],
      "execution_count": 0,
      "outputs": []
    },
    {
      "cell_type": "code",
      "metadata": {
        "id": "ky2EGW7PTOkv",
        "colab_type": "code",
        "colab": {
          "base_uri": "https://localhost:8080/",
          "height": 34
        },
        "outputId": "666be069-5ac9-4d2d-a7e5-8a4df088e15e"
      },
      "source": [
        "#Import required libraries\n",
        "import tensorflow as tf\n",
        "import numpy as np\n",
        "import matplotlib.pyplot as plt\n",
        "print(tf.__version__)"
      ],
      "execution_count": 2,
      "outputs": [
        {
          "output_type": "stream",
          "text": [
            "2.2.0-rc3\n"
          ],
          "name": "stdout"
        }
      ]
    },
    {
      "cell_type": "code",
      "metadata": {
        "id": "_yq_CaLbTqWi",
        "colab_type": "code",
        "colab": {}
      },
      "source": [
        "def plot_series(time, series, format = \"-\", start = 0, end = None):\n",
        "  plt.plot(time[start:end], series[start:end], format)\n",
        "  plt.xlabel(\"Time\")\n",
        "  plt.ylabel('Value')\n",
        "  plt.grid(True)\n",
        "\n",
        "def trend(time, slope = 0):\n",
        "  return slope * time\n",
        "\n",
        "def seasonal_pattern(seasonal_time):\n",
        "  return np.where(seasonal_time < 0.4, \n",
        "                  np.cos(seasonal_time * 2 * np.pi), \n",
        "                  1/np.exp(3 * seasonal_time))\n",
        "  \n",
        "def seasonality(time, period, amplitude = 1, phase = 0):\n",
        "  season_time = ((time + phase) % period)/period\n",
        "  return amplitude * seasonal_pattern(season_time)\n",
        "\n",
        "def noise(time, noise_level = 1, seed = None):\n",
        "  rnd = np.random.RandomState(seed)\n",
        "  return rnd.randn(len(time)) * noise_level"
      ],
      "execution_count": 0,
      "outputs": []
    },
    {
      "cell_type": "code",
      "metadata": {
        "id": "fO-5FMX1VgQM",
        "colab_type": "code",
        "colab": {}
      },
      "source": [
        "time = np.arange(4 * 365 + 1, dtype = 'float32')\n",
        "baseline = 10\n",
        "series = trend(time, 0.1)\n",
        "amplitude = 40\n",
        "slope = 0.05\n",
        "noise_level = 5\n",
        "\n",
        "#Create the series\n",
        "series = baseline + trend(time, slope) + seasonality(time, period = 365, amplitude = amplitude)\n",
        "\n",
        "#Update with noise\n",
        "series += noise(time, noise_level, seed = 42)\n"
      ],
      "execution_count": 0,
      "outputs": []
    },
    {
      "cell_type": "markdown",
      "metadata": {
        "id": "n2DzMx_zWuZc",
        "colab_type": "text"
      },
      "source": [
        "Let's start with this function *windowed_dataset* that will call a windows dataset. It will take in a data series along with the parameters for the size of the window that we want. The size of the batches to use when training, and the size of the shuffle buffer, which determines how the data will be shuffled."
      ]
    },
    {
      "cell_type": "markdown",
      "metadata": {
        "id": "SvvNbCZZY20h",
        "colab_type": "text"
      },
      "source": [
        "* The first step will be to create a\n",
        "dataset from the series using a *tf.data.Dataset* and we'll pass the series to it using its *from_tensor_slices* method\n",
        "\n",
        "dataset = tf.data.Dataset.from_tensor_slices(series)\n",
        "\n",
        "* We will then use the window method of the dataset based on our window_size to slice the data up into the appropriate windows. Each one being shifted by one time set. We'll keep them all the same size by setting drop_remainder = True\n",
        "\n",
        "dataset = dataset.window(window_size + 1, shift = 1, drop_remainder = True\n",
        "\n",
        "*   We then flatten the data out to make it easier to work with. And it will be flattened into chunks in the size of our window_size + 1\n",
        "\n",
        "dataset = dataset.flat_map(lambda window: window.batch(window_size + 1))\n",
        "\n",
        "* Once it's flattened, it's easy to shuffle it. You can shuffle and you pass it the shuffle buffer. Using a shuffle buffer speeds things up a bit. So for example, if you have 100,000 items in your dataset, but you set the buffer to a thousand. It will just fill the buffer with the first thousand elements, pick one of them at random. And then it will replace that with the 1,000 and first element before randomly picking again, and so on. This way with super large datasets, the random element choosing can choose from a smaller number which effectively speeds things up. The shuffled dataset is then split into the X's, which is all of the elements except the last, and the y which is the last element.\n",
        "\n",
        "dataset = dataset.shuffle(shuffle_buffer).map(lambda window: (window[:-1], window[-1]))\n",
        "\n",
        "* It's then batched into the selected batch size and returned.\n",
        "\n",
        "dataset = dataset.batch(batch_size).prefetch(1)\n",
        "\n",
        "\n",
        "\n",
        "\n",
        "\n"
      ]
    },
    {
      "cell_type": "code",
      "metadata": {
        "id": "5uYwpHnqXE6l",
        "colab_type": "code",
        "colab": {}
      },
      "source": [
        "def windowed_dataset(series, window_size, batch_size, shuffle_buffer):\n",
        "  \"\"\"\n",
        "  series - Training instances observed at time \n",
        "  window_size - Number of instances to be considered in a window that will be split in X and y\n",
        "  batch_size - Size of the batches for instance batch_size = 5 then 5 X's and 5 y's\n",
        "  shuffle_buffer - Number of instances to shuffle in a training dataset\n",
        "  \"\"\"\n",
        "  dataset = tf.data.Dataset.from_tensor_slices(series)\n",
        "  dataset = dataset.window(window_size + 1, shift = 1, drop_remainder = True)\n",
        "  dataset = dataset.flat_map(lambda window: window.batch(window_size + 1))\n",
        "  dataset = dataset.shuffle(shuffle_buffer).map(lambda window: (window[:-1], window[-1]))\n",
        "  dataset = dataset.batch(batch_size).prefetch(1)\n",
        "  return dataset"
      ],
      "execution_count": 0,
      "outputs": []
    },
    {
      "cell_type": "markdown",
      "metadata": {
        "id": "Dyq-8Q9RcO4A",
        "colab_type": "text"
      },
      "source": [
        "Now that we have a window datasets, we can start training neural networks with it. Let's start with a super simple one that's effectively a linear regression. We'll measure its accuracy, and then we'll work from there to improve that. Before we can do a training, we have to split our dataset into training and validation sets."
      ]
    },
    {
      "cell_type": "code",
      "metadata": {
        "id": "rH89lGHDcP21",
        "colab_type": "code",
        "colab": {}
      },
      "source": [
        "split_time = 1000\n",
        "time_train = time[:split_time]\n",
        "x_train = series[:split_time]\n",
        "time_valid = time[split_time:]\n",
        "x_valid = series[split_time:]\n",
        "\n",
        "#Constants that will be passed to the windowed_dataset function\n",
        "window_size = 20\n",
        "batch_size = 32\n",
        "shuffle_buffer_size = 1000"
      ],
      "execution_count": 0,
      "outputs": []
    },
    {
      "cell_type": "markdown",
      "metadata": {
        "id": "X378_i_6cfP7",
        "colab_type": "text"
      },
      "source": [
        "Here's how you can do a simple linear regression:\n",
        "\n",
        "We create a single dense layer with its input shape being the window size. For linear regression, that's all you need. I'm using this approach. By passing the layer to a variable called L0, because later I'm want to print out its learned weights, and it's a lot easier for me to do that if I have a variable to refer to the layer for that. Then I simply define my model as a sequential containing the sole layer just like this."
      ]
    },
    {
      "cell_type": "code",
      "metadata": {
        "id": "rh0POsFAc5Dm",
        "colab_type": "code",
        "colab": {
          "base_uri": "https://localhost:8080/",
          "height": 34
        },
        "outputId": "d672f78b-3207-4444-e9cd-614bd1e802e4"
      },
      "source": [
        "dataset = windowed_dataset(x_train, window_size, batch_size, shuffle_buffer_size)\n",
        "print(dataset)\n",
        "\n",
        "l0 = tf.keras.layers.Dense(1, input_shape = [window_size])\n",
        "model = tf.keras.models.Sequential([l0])"
      ],
      "execution_count": 17,
      "outputs": [
        {
          "output_type": "stream",
          "text": [
            "<PrefetchDataset shapes: ((None, None), (None,)), types: (tf.float32, tf.float32)>\n"
          ],
          "name": "stdout"
        }
      ]
    },
    {
      "cell_type": "markdown",
      "metadata": {
        "id": "kxFL4pgdd8sp",
        "colab_type": "text"
      },
      "source": [
        "Now I'll compile and fit my model. I'll use the mean squared error as my loss function by setting loss to MSE, and my optimizer will use Stochastic Gradient Descent. I'd use this methodology instead of the raw string, so I can set parameters on it to initialize it such as the learning rate or LR and the momentum. We can experiment with different values here to see if we can get our model to converge more quickly or more accurately. \n",
        "\n",
        "Next you can fit your model by just passing it the dataset, which has already been preformatted with the X and y values. I'm going to run for a 100 epochs here. Ignoring the epoch by epoch output by setting verbose to zero."
      ]
    },
    {
      "cell_type": "code",
      "metadata": {
        "id": "uzuhkNo9eZiB",
        "colab_type": "code",
        "colab": {
          "base_uri": "https://localhost:8080/",
          "height": 357
        },
        "outputId": "81c77a02-51de-46c9-b9c4-6f4d913a4329"
      },
      "source": [
        "model.compile(loss = 'mse', optimizer = tf.keras.optimizers.SGD(learning_rate = 1e-6, momentum=0.9))\n",
        "model.fit(dataset, epochs = 100, verbose = 0)\n",
        "\n",
        "print('Layer weights {}'.format(l0.get_weights()))"
      ],
      "execution_count": 18,
      "outputs": [
        {
          "output_type": "stream",
          "text": [
            "Layer weights [array([[-0.04923845],\n",
            "       [-0.01714974],\n",
            "       [ 0.09703389],\n",
            "       [-0.01992548],\n",
            "       [-0.05140535],\n",
            "       [-0.00151767],\n",
            "       [ 0.05966645],\n",
            "       [ 0.05536499],\n",
            "       [-0.12114954],\n",
            "       [ 0.02304291],\n",
            "       [ 0.04301403],\n",
            "       [-0.05439667],\n",
            "       [ 0.04772409],\n",
            "       [ 0.01697237],\n",
            "       [-0.05389675],\n",
            "       [ 0.0987827 ],\n",
            "       [ 0.07065237],\n",
            "       [ 0.1329707 ],\n",
            "       [ 0.2199471 ],\n",
            "       [ 0.49598414]], dtype=float32), array([0.0139247], dtype=float32)]\n"
          ],
          "name": "stdout"
        }
      ]
    },
    {
      "cell_type": "markdown",
      "metadata": {
        "id": "g4xJwjuDfDnZ",
        "colab_type": "text"
      },
      "source": [
        "The output is displayed above which you can interpret it as first arrays having 20 values (size of window) and the secondary array has only one value. This is because the network has learned a linear regression to fit the values as best as they can. So each of the values in the first array can be seen as the weights for the 20 values in x, and the value for the second array is the b value.\n",
        "\n"
      ]
    },
    {
      "cell_type": "markdown",
      "metadata": {
        "id": "rOyxheWzgHqI",
        "colab_type": "text"
      },
      "source": [
        "# Prediction\n",
        "\n",
        "If we want to plot our forecasts for every point on the time-series relative to the 20 points before it where our window size was 20, we can write code like in following cell. We create an empty list of forecasts and then iterate over the series taking slices and window size, predicting them, and adding the results to the forecast list. \n",
        "\n",
        "\n",
        "We had split our time series into training and testing sets taking everything before a certain time is training and the rest is validation. So we'll just take the forecasts after the split time and load them into a NumPy array for charting."
      ]
    },
    {
      "cell_type": "code",
      "metadata": {
        "id": "cqzzYRoVf3Fs",
        "colab_type": "code",
        "colab": {
          "base_uri": "https://localhost:8080/",
          "height": 388
        },
        "outputId": "338071ed-1793-4354-cfa5-cbfe3dd1fd3e"
      },
      "source": [
        "forecast = []\n",
        "\n",
        "for time in range(len(series) - window_size):\n",
        "  forecast.append(model.predict(series[time:time + window_size][np.newaxis]))\n",
        "\n",
        "forecast = forecast[split_time - window_size:]\n",
        "results = np.array(forecast)[:, 0, 0]\n",
        "\n",
        "plt.figure(figsize=(10, 6))\n",
        "plot_series(time_valid, x_valid)\n",
        "plot_series(time_valid, results)"
      ],
      "execution_count": 19,
      "outputs": [
        {
          "output_type": "display_data",
          "data": {
            "image/png": "[encoded data removed]",
            "text/plain": [
              "<Figure size 720x432 with 1 Axes>"
            ]
          },
          "metadata": {
            "tags": [],
            "needs_background": "light"
          }
        }
      ]
    },
    {
      "cell_type": "code",
      "metadata": {
        "id": "ieCwJTHQhZ9b",
        "colab_type": "code",
        "colab": {
          "base_uri": "https://localhost:8080/",
          "height": 34
        },
        "outputId": "074de3f4-b424-4a24-d26f-1c9d133eec1d"
      },
      "source": [
        "tf.keras.metrics.mean_absolute_error(x_valid, results).numpy()"
      ],
      "execution_count": 20,
      "outputs": [
        {
          "output_type": "execute_result",
          "data": {
            "text/plain": [
              "5.083077"
            ]
          },
          "metadata": {
            "tags": []
          },
          "execution_count": 20
        }
      ]
    }
  ]
}